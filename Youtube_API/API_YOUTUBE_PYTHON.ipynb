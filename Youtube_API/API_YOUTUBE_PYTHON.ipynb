{
  "nbformat": 4,
  "nbformat_minor": 0,
  "metadata": {
    "colab": {
      "name": "API_YOUTUBE_PYTHON",
      "private_outputs": true,
      "provenance": [],
      "collapsed_sections": []
    },
    "kernelspec": {
      "name": "python3",
      "display_name": "Python 3"
    },
    "language_info": {
      "name": "python"
    }
  },
  "cells": [
    {
      "cell_type": "code",
      "execution_count": null,
      "metadata": {
        "id": "Ez-odAYtm-Uf"
      },
      "outputs": [],
      "source": [
        "#import Libraries\n",
        "import requests\n",
        "import pandas as pd\n",
        "import time\n",
        "from googleapiclient.discovery import build"
      ]
    },
    {
      "cell_type": "code",
      "source": [
        "#Keys\n",
        "# How to get API Key for youtube : https://www.slickremix.com/docs/get-api-key-for-youtube/\n",
        "API_KEY = \"XXXX\"\n",
        "\n",
        "# How to get CHANNEL_ID for your youtube channel : https://support.google.com/youtube/answer/3250431?hl=en\n",
        "CHANNEL_ID = \"UC8EqL37DJOg_SYEjNoCVB3g\""
      ],
      "metadata": {
        "id": "DVSjB98OzpfC"
      },
      "execution_count": null,
      "outputs": []
    },
    {
      "cell_type": "markdown",
      "source": [
        "I tried this before and it didnt work\n",
        "\n",
        "pageToken = \"\"\n",
        "\n",
        "url = \"GET https://www.googleapis.com/youtube/v3/search?key=\"+API_KEY+\"@channelid=\"+CHANNEL_ID+\"&part=snippet,id&order=date&maxResults=1000\"+pageToken\n",
        "\n",
        "response = requests.get(url).json()"
      ],
      "metadata": {
        "id": "UnXL5MRmNMET"
      }
    },
    {
      "cell_type": "code",
      "source": [
        " youtube = build('youtube', 'v3', developerKey=API_KEY)\n",
        "\n",
        " request = youtube.channels().list(part = 'snippet',id = CHANNEL_ID,maxResults=1000,pageToken=\"\")\n",
        "\n",
        " response = request.execute()\n",
        "\n",
        " response['items'][0]"
      ],
      "metadata": {
        "id": "jSblc5V6IaTs"
      },
      "execution_count": null,
      "outputs": []
    },
    {
      "cell_type": "code",
      "source": [
        "request = youtube.search().list(part=\"snippet\",channelId=\"UC8EqL37DJOg_SYEjNoCVB3g\",maxResults=1000,pageToken=\"\")\n",
        "response = request.execute()\n",
        "response"
      ],
      "metadata": {
        "id": "AuVYnQVFPFgj"
      },
      "execution_count": null,
      "outputs": []
    },
    {
      "cell_type": "code",
      "source": [
        "df = pd.DataFrame(columns=[\"video_id\",\"video_title\",\"upload_date\",\"view_count\",\"like_count\",\"comment_count\"]) \n",
        "df"
      ],
      "metadata": {
        "id": "klgaZ6P77WFJ"
      },
      "execution_count": null,
      "outputs": []
    },
    {
      "cell_type": "code",
      "source": [
        "request2 = youtube.videos().list(part=\"statistics\",id='dLm44iZJXSc')\n",
        "response2 = request2.execute()\n",
        "response2"
      ],
      "metadata": {
        "id": "sGb3102A9TxT"
      },
      "execution_count": null,
      "outputs": []
    },
    {
      "cell_type": "code",
      "source": [
        "for video in response['items']:\n",
        "  if video['id']['kind'] == \"youtube#video\":\n",
        "    video_id = video['id']['videoId']\n",
        "    video_title = video['snippet']['title']\n",
        "    video_title = str(video_title).replace(\"&amp;\",\"\")\n",
        "    upload_date = video['snippet']['publishedAt']\n",
        "    upload_date = str(upload_date).split(\"T\")[0]\n",
        "    request2 = youtube.videos().list(part=\"statistics\",id=video_id)\n",
        "    response2 = request2.execute()\n",
        "    view_count = response2['items'][0]['statistics']['viewCount']\n",
        "    try:\n",
        "      like_count = response2['items'][0]['statistics']['likeCount']\n",
        "    except:\n",
        "      like_count = 0\n",
        "    #dislike_count = response2['items'][0]['statistics']['dislikeCount']\n",
        "    comment_count = response2['items'][0]['statistics']['commentCount']\n",
        "    df = df.append({'video_id':video_id,'video_title':video_title,\"upload_date\":upload_date,\"view_count\":view_count,\"like_count\":like_count,\"comment_count\":comment_count},ignore_index=True)\n",
        "    \n",
        "\n",
        "\n",
        "            "
      ],
      "metadata": {
        "id": "IXwH96TVRwU-"
      },
      "execution_count": null,
      "outputs": []
    },
    {
      "cell_type": "code",
      "source": [
        "df.to_csv('youtube_vids_2nd_pull.csv')"
      ],
      "metadata": {
        "id": "OkNpOpp97uvo"
      },
      "execution_count": null,
      "outputs": []
    }
  ]
}
